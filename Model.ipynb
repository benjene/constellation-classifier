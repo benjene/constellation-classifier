{
  "nbformat": 4,
  "nbformat_minor": 0,
  "metadata": {
    "colab": {
      "name": "Model",
      "provenance": [],
      "collapsed_sections": []
    },
    "kernelspec": {
      "name": "python3",
      "display_name": "Python 3"
    },
    "language_info": {
      "name": "python"
    }
  },
  "cells": [
    {
      "cell_type": "markdown",
      "metadata": {
        "id": "r1mCyVsr_3gv"
      },
      "source": [
        "# Constellation Classifier\n",
        "By Fardin Abdullah, Nicholas Foisy, Japmann Sarin"
      ]
    },
    {
      "cell_type": "code",
      "metadata": {
        "id": "5GEON873q4eA",
        "colab": {
          "base_uri": "https://localhost:8080/"
        },
        "outputId": "9a3460f8-f24e-4eaa-afc6-ad2672236e19"
      },
      "source": [
        "import numpy as np \n",
        "import pandas as pd  \n",
        "import os \n",
        "from pathlib import Path \n",
        "import glob\n",
        "\n",
        "import seaborn as sns \n",
        "import matplotlib.pyplot as plt \n",
        "\n",
        "import tensorflow as tf  \n",
        "from tensorflow.keras import layers\n",
        "from tensorflow.keras import Model  \n",
        "from tensorflow.keras.optimizers import RMSprop\n",
        "from keras_preprocessing.image import ImageDataGenerator\n",
        "\n",
        "\n",
        "from tensorflow.keras.optimizers import Adam\n",
        "from tensorflow.keras.layers import Conv2D, MaxPooling2D, Flatten, Dense, Dropout\n",
        "from tensorflow.keras.models import Sequential\n",
        "from tensorflow.keras.callbacks import EarlyStopping, ModelCheckpoint\n",
        "\n",
        "from google.colab import drive\n",
        "\n",
        "drive.mount('/content/gdrive')"
      ],
      "execution_count": null,
      "outputs": [
        {
          "output_type": "stream",
          "name": "stdout",
          "text": [
            "Drive already mounted at /content/gdrive; to attempt to forcibly remount, call drive.mount(\"/content/gdrive\", force_remount=True).\n"
          ]
        }
      ]
    },
    {
      "cell_type": "markdown",
      "metadata": {
        "id": "K_nDcZIgA0PN"
      },
      "source": [
        "## Defining important variables"
      ]
    },
    {
      "cell_type": "code",
      "metadata": {
        "id": "LVVzJ-TbCbTM"
      },
      "source": [
        "#defining list of labels\n",
        "input_list = [\"Aquarius\", \"Aries\", \"Cancer\", \"Cassiopeia\", \"Cygnus\", \"Pisces\", \"Scorpius\", \"Taurus\", \"Ursa_Minor\"]\n",
        "input_num = [i for i in range(len(input_list))]\n",
        "\n",
        "#defining important parameters\n",
        "pixel_count = 128 # this will be the size we change input images to to feed into the model\n",
        "\n",
        "#this is where the data for the model will be selected\n",
        "train_folder_path = Path('/content/gdrive/MyDrive/ConstellationClassifier/Dataset/Model_Data/Train')\n",
        "test_path = Path('/content/gdrive/MyDrive/ConstellationClassifier/Dataset/Model_Data/Test')"
      ],
      "execution_count": null,
      "outputs": []
    },
    {
      "cell_type": "code",
      "metadata": {
        "id": "ktzkzEvwH39k"
      },
      "source": [
        "#In total, there are samples of images across 9 classes\n",
        "\n",
        "#we can probably use a loop at some point to do this more concisely\n",
        "\n",
        "aqu_path = Path('/content/gdrive/MyDrive/ConstellationClassifier/Dataset/Model_Data/Train/Aquarius')\n",
        "ari_path = Path('/content/gdrive/MyDrive/ConstellationClassifier/Dataset/Model_Data/Train/Aries')\n",
        "can_path = Path('/content/gdrive/MyDrive/ConstellationClassifier/Dataset/Model_Data/Train/Cancer')\n",
        "cas_path = Path('/content/gdrive/MyDrive/ConstellationClassifier/Dataset/Model_Data/Train/Cassiopeia')\n",
        "cyg_path = Path('/content/gdrive/MyDrive/ConstellationClassifier/Dataset/Model_Data/Train/Cygnus')\n",
        "pis_path = Path('/content/gdrive/MyDrive/ConstellationClassifier/Dataset/Model_Data/Train/Pisces')\n",
        "sco_path = Path('/content/gdrive/MyDrive/ConstellationClassifier/Dataset/Model_Data/Train/Scorpius')\n",
        "tau_path = Path('/content/gdrive/MyDrive/ConstellationClassifier/Dataset/Model_Data/Train/Taurus')\n",
        "umi_path = Path('/content/gdrive/MyDrive/ConstellationClassifier/Dataset/Model_Data/Train/Ursa_Minor')\n",
        "\n",
        "aqu_images = aqu_path.glob('*.jpg')\n",
        "ari_images = ari_path.glob('*.jpg')\n",
        "can_images = can_path.glob('*.jpg')\n",
        "cas_images = cas_path.glob('*.jpg')\n",
        "cyg_images = cyg_path.glob('*.jpg')\n",
        "pis_images = pis_path.glob('*.jpg')\n",
        "sco_images = sco_path.glob('*.jpg')\n",
        "umi_images = umi_path.glob('*.jpg')\n",
        "tau_images = tau_path.glob('*.jpg')\n",
        "\n",
        "images_list_train = [aqu_images, ari_images, can_images, cas_images, cyg_images, pis_images, sco_images, tau_images, umi_images]\n",
        "\n",
        "#test_csv\n",
        "aqu_path_test = Path('/content/gdrive/MyDrive/ConstellationClassifier/Dataset/Model_Data/Test/Aquarius')\n",
        "ari_path_test = Path('/content/gdrive/MyDrive/ConstellationClassifier/Dataset/Model_Data/Test/Aries')\n",
        "can_path_test = Path('/content/gdrive/MyDrive/ConstellationClassifier/Dataset/Model_Data/Test/Cancer')\n",
        "cas_path_test = Path('/content/gdrive/MyDrive/ConstellationClassifier/Dataset/Model_Data/Test/Cassiopeia')\n",
        "cyg_path_test = Path('/content/gdrive/MyDrive/ConstellationClassifier/Dataset/Model_Data/Test/Cygnus')\n",
        "pis_path_test = Path('/content/gdrive/MyDrive/ConstellationClassifier/Dataset/Model_Data/Test/Pisces')\n",
        "sco_path_test = Path('/content/gdrive/MyDrive/ConstellationClassifier/Dataset/Model_Data/Test/Scorpius')\n",
        "tau_path_test = Path('/content/gdrive/MyDrive/ConstellationClassifier/Dataset/Model_Data/Test/Taurus')\n",
        "umi_path_test = Path('/content/gdrive/MyDrive/ConstellationClassifier/Dataset/Model_Data/Test/Ursa_Minor')\n",
        "\n",
        "aqu_images_test = aqu_path_test.glob('*.jpg')\n",
        "ari_images_test = ari_path_test.glob('*.jpg')\n",
        "can_images_test = can_path_test.glob('*.jpg')\n",
        "cas_images_test = cas_path_test.glob('*.jpg')\n",
        "cyg_images_test = cyg_path_test.glob('*.jpg')\n",
        "pis_images_test = pis_path_test.glob('*.jpg')\n",
        "sco_images_test = sco_path_test.glob('*.jpg')\n",
        "umi_images_test = umi_path_test.glob('*.jpg')\n",
        "tau_images_test = tau_path_test.glob('*.jpg')\n",
        "\n",
        "images_list_test = [aqu_images_test, ari_images_test, can_images_test, cas_images_test, cyg_images_test, pis_images_test, sco_images_test, tau_images_test, umi_images_test]\n",
        "\n",
        "test_csv = make_csv_with_image_labels(images_list_test,input_num)"
      ],
      "execution_count": null,
      "outputs": []
    },
    {
      "cell_type": "code",
      "metadata": {
        "colab": {
          "base_uri": "https://localhost:8080/",
          "height": 407
        },
        "id": "FsiNr6ZeAuOx",
        "outputId": "e10ae1fc-40a9-4ade-b85d-b06758f33de9"
      },
      "source": [
        "#pretty visualization of train dataset\n",
        "\n",
        "def make_csv_with_image_labels(images_list, labels_list):\n",
        "    df = []\n",
        "    for i in range(len(images_list)):\n",
        "      for image in images_list[i]:\n",
        "        df.append((image, i)) # adding each image of each class in dataframe df with corresponding class label 0, 1, 2, 3, 4\n",
        "    df = pd.DataFrame(df, columns=[\"image_path\", \"label\"], index = None) # converting into dataframe \n",
        "    df = df.sample(frac = 1).reset_index(drop=True) \n",
        "    return df  \n",
        "\n",
        "train_csv = make_csv_with_image_labels(images_list_train, input_num) #outputs a dataframe with the image path of every image in classes 0 to 4 as well as their class number\n",
        "train_csv.head()\n",
        "#train_csv.iloc[0]['image_path'] #example of path stored\n",
        "\n",
        "lengths = np.empty(len(input_list))\n",
        "for num in input_num:\n",
        "  lengths[num] = len(train_csv[\"label\"][train_csv.label == num])\n",
        "  print(\"num of\", input_list[num], \"samples:\", lengths[num])\n",
        "\n",
        "plt.pie(lengths, labels=input_list, shadow=False) \n",
        "plt.show()"
      ],
      "execution_count": null,
      "outputs": [
        {
          "output_type": "stream",
          "name": "stdout",
          "text": [
            "num of Aquarius samples: 82.0\n",
            "num of Aries samples: 82.0\n",
            "num of Cancer samples: 140.0\n",
            "num of Cassiopeia samples: 93.0\n",
            "num of Cygnus samples: 84.0\n",
            "num of Pisces samples: 78.0\n",
            "num of Scorpius samples: 80.0\n",
            "num of Taurus samples: 81.0\n",
            "num of Ursa_Minor samples: 94.0\n"
          ]
        },
        {
          "output_type": "display_data",
          "data": {
            "image/png": "[encoded data removed]",
            "text/plain": [
              "<Figure size 432x288 with 1 Axes>"
            ]
          },
          "metadata": {}
        }
      ]
    },
    {
      "cell_type": "markdown",
      "metadata": {
        "id": "Nm5EJ3v5BBPp"
      },
      "source": [
        "## Data preprocessing"
      ]
    },
    {
      "cell_type": "code",
      "metadata": {
        "id": "62Xue_iK_F7s"
      },
      "source": [
        "X_train = [] #converting images to numpy arrays\n",
        "for i in train_csv['image_path']:\n",
        "  img = image.load_img(i, target_size=(400, 400), color_mode='rgb')\n",
        "  img = img.resize((pixel_count,pixel_count))\n",
        "  img = np.asarray(img)\n",
        "  img = img/255\n",
        "  X_train.append(img)\n",
        "X_train = np.array(X_train)\n",
        "\n",
        "#labels \n",
        "y_train = []\n",
        "\n",
        "for i in train_csv['label']:\n",
        "  y_train.append(i)\n",
        "\n",
        "y_train = np.array(y_train)\n"
      ],
      "execution_count": null,
      "outputs": []
    },
    {
      "cell_type": "code",
      "metadata": {
        "id": "kBbOf7DHWDa1"
      },
      "source": [
        "#X_test\n",
        "X_test = []\n",
        "for i in test_csv['image_path']:\n",
        "  img = image.load_img(i, target_size=(400, 400), color_mode='rgb')\n",
        "  img = img.resize((pixel_count,pixel_count))\n",
        "  img = np.asarray(img)\n",
        "  img = img/255\n",
        "  X_test.append(img)\n",
        "X_test = np.array(X_test)\n",
        "\n",
        "#y_test\n",
        "y_test = []\n",
        "\n",
        "for i in test_csv['label']:\n",
        "  y_test.append(i)\n",
        "\n",
        "y_test = np.array(y_test)\n",
        "\n"
      ],
      "execution_count": null,
      "outputs": []
    },
    {
      "cell_type": "markdown",
      "metadata": {
        "id": "Q78cGiIGBGJ3"
      },
      "source": [
        "## Building the Convolutional Neural Network"
      ]
    },
    {
      "cell_type": "code",
      "metadata": {
        "id": "tq_0U70GrFri"
      },
      "source": [
        "cnn = Sequential([\n",
        "    layers.Conv2D(filters=32, kernel_size=(3, 3), activation='relu', input_shape=(128, 128, 3)),\n",
        "    layers.MaxPooling2D((2, 2)),\n",
        "    \n",
        "    layers.Conv2D(filters=64, kernel_size=(3, 3), activation='relu'),\n",
        "    layers.MaxPooling2D((2, 2)),\n",
        "    \n",
        "    layers.Flatten(),\n",
        "    layers.Dense(64, activation='relu'),\n",
        "    layers.Dense(9, activation='softmax')\n",
        "])"
      ],
      "execution_count": null,
      "outputs": []
    },
    {
      "cell_type": "code",
      "metadata": {
        "id": "5hb3hLrZrThO"
      },
      "source": [
        "cnn.compile(optimizer='adam',\n",
        "              loss='sparse_categorical_crossentropy',\n",
        "              metrics=['accuracy'])"
      ],
      "execution_count": null,
      "outputs": []
    },
    {
      "cell_type": "markdown",
      "metadata": {
        "id": "-gWbbdO0Bs6l"
      },
      "source": [
        "## Training the model"
      ]
    },
    {
      "cell_type": "code",
      "metadata": {
        "colab": {
          "base_uri": "https://localhost:8080/"
        },
        "id": "BxsBNkzzrcPb",
        "outputId": "bc6eda54-fefd-48ea-fccf-41158c8e98a6"
      },
      "source": [
        "cnn.fit(X_train, y_train, epochs=50)"
      ],
      "execution_count": null,
      "outputs": [
        {
          "output_type": "stream",
          "name": "stdout",
          "text": [
            "Epoch 1/50\n",
            "26/26 [==============================] - 16s 610ms/step - loss: 2.5342 - accuracy: 0.2052\n",
            "Epoch 2/50\n",
            "26/26 [==============================] - 16s 609ms/step - loss: 1.0120 - accuracy: 0.6941\n",
            "Epoch 3/50\n",
            "26/26 [==============================] - 16s 608ms/step - loss: 0.3509 - accuracy: 0.8956\n",
            "Epoch 4/50\n",
            "26/26 [==============================] - 16s 607ms/step - loss: 0.1528 - accuracy: 0.9545\n",
            "Epoch 5/50\n",
            "26/26 [==============================] - 16s 610ms/step - loss: 0.0645 - accuracy: 0.9791\n",
            "Epoch 6/50\n",
            "26/26 [==============================] - 16s 609ms/step - loss: 0.0393 - accuracy: 0.9828\n",
            "Epoch 7/50\n",
            "26/26 [==============================] - 16s 608ms/step - loss: 0.0272 - accuracy: 0.9865\n",
            "Epoch 8/50\n",
            "26/26 [==============================] - 16s 609ms/step - loss: 0.0207 - accuracy: 0.9828\n",
            "Epoch 9/50\n",
            "26/26 [==============================] - 16s 608ms/step - loss: 0.0239 - accuracy: 0.9840\n",
            "Epoch 10/50\n",
            "26/26 [==============================] - 16s 609ms/step - loss: 0.0218 - accuracy: 0.9877\n",
            "Epoch 11/50\n",
            "26/26 [==============================] - 16s 607ms/step - loss: 0.0218 - accuracy: 0.9853\n",
            "Epoch 12/50\n",
            "26/26 [==============================] - 16s 610ms/step - loss: 0.0196 - accuracy: 0.9877\n",
            "Epoch 13/50\n",
            "26/26 [==============================] - 16s 608ms/step - loss: 0.0210 - accuracy: 0.9853\n",
            "Epoch 14/50\n",
            "26/26 [==============================] - 16s 613ms/step - loss: 0.0205 - accuracy: 0.9877\n",
            "Epoch 15/50\n",
            "26/26 [==============================] - 16s 611ms/step - loss: 0.0196 - accuracy: 0.9791\n",
            "Epoch 16/50\n",
            "26/26 [==============================] - 16s 611ms/step - loss: 0.0184 - accuracy: 0.9853\n",
            "Epoch 17/50\n",
            "26/26 [==============================] - 16s 608ms/step - loss: 0.0180 - accuracy: 0.9865\n",
            "Epoch 18/50\n",
            "26/26 [==============================] - 16s 608ms/step - loss: 0.0188 - accuracy: 0.9853\n",
            "Epoch 19/50\n",
            "26/26 [==============================] - 16s 609ms/step - loss: 0.0179 - accuracy: 0.9877\n",
            "Epoch 20/50\n",
            "26/26 [==============================] - 16s 611ms/step - loss: 0.0186 - accuracy: 0.9877\n",
            "Epoch 21/50\n",
            "26/26 [==============================] - 16s 610ms/step - loss: 0.0187 - accuracy: 0.9877\n",
            "Epoch 22/50\n",
            "26/26 [==============================] - 16s 609ms/step - loss: 0.0182 - accuracy: 0.9816\n",
            "Epoch 23/50\n",
            "26/26 [==============================] - 16s 610ms/step - loss: 0.0185 - accuracy: 0.9865\n",
            "Epoch 24/50\n",
            "26/26 [==============================] - 16s 610ms/step - loss: 0.0187 - accuracy: 0.9803\n",
            "Epoch 25/50\n",
            "26/26 [==============================] - 16s 611ms/step - loss: 0.0197 - accuracy: 0.9877\n",
            "Epoch 26/50\n",
            "26/26 [==============================] - 16s 610ms/step - loss: 0.0196 - accuracy: 0.9889\n",
            "Epoch 27/50\n",
            "26/26 [==============================] - 16s 609ms/step - loss: 0.0200 - accuracy: 0.9816\n",
            "Epoch 28/50\n",
            "26/26 [==============================] - 16s 610ms/step - loss: 0.0181 - accuracy: 0.9828\n",
            "Epoch 29/50\n",
            "26/26 [==============================] - 16s 611ms/step - loss: 0.0179 - accuracy: 0.9877\n",
            "Epoch 30/50\n",
            "26/26 [==============================] - 16s 608ms/step - loss: 0.0179 - accuracy: 0.9877\n",
            "Epoch 31/50\n",
            "26/26 [==============================] - 16s 612ms/step - loss: 0.0177 - accuracy: 0.9877\n",
            "Epoch 32/50\n",
            "26/26 [==============================] - 16s 608ms/step - loss: 0.0176 - accuracy: 0.9877\n",
            "Epoch 33/50\n",
            "26/26 [==============================] - 16s 614ms/step - loss: 0.0177 - accuracy: 0.9877\n",
            "Epoch 34/50\n",
            "26/26 [==============================] - 16s 613ms/step - loss: 0.0176 - accuracy: 0.9828\n",
            "Epoch 35/50\n",
            "26/26 [==============================] - 16s 613ms/step - loss: 0.0178 - accuracy: 0.9877\n",
            "Epoch 36/50\n",
            "26/26 [==============================] - 16s 612ms/step - loss: 0.0179 - accuracy: 0.9877\n",
            "Epoch 37/50\n",
            "26/26 [==============================] - 16s 611ms/step - loss: 0.0186 - accuracy: 0.9877\n",
            "Epoch 38/50\n",
            "26/26 [==============================] - 16s 612ms/step - loss: 0.0176 - accuracy: 0.9877\n",
            "Epoch 39/50\n",
            "26/26 [==============================] - 16s 612ms/step - loss: 0.0179 - accuracy: 0.9840\n",
            "Epoch 40/50\n",
            "26/26 [==============================] - 16s 610ms/step - loss: 0.0183 - accuracy: 0.9853\n",
            "Epoch 41/50\n",
            "26/26 [==============================] - 16s 613ms/step - loss: 0.0173 - accuracy: 0.9877\n",
            "Epoch 42/50\n",
            "26/26 [==============================] - 16s 614ms/step - loss: 0.0175 - accuracy: 0.9865\n",
            "Epoch 43/50\n",
            "26/26 [==============================] - 16s 612ms/step - loss: 0.0172 - accuracy: 0.9877\n",
            "Epoch 44/50\n",
            "26/26 [==============================] - 16s 613ms/step - loss: 0.0187 - accuracy: 0.9853\n",
            "Epoch 45/50\n",
            "26/26 [==============================] - 16s 610ms/step - loss: 0.0182 - accuracy: 0.9877\n",
            "Epoch 46/50\n",
            "26/26 [==============================] - 16s 615ms/step - loss: 0.0174 - accuracy: 0.9865\n",
            "Epoch 47/50\n",
            "26/26 [==============================] - 16s 609ms/step - loss: 0.0175 - accuracy: 0.9853\n",
            "Epoch 48/50\n",
            "26/26 [==============================] - 16s 608ms/step - loss: 0.0174 - accuracy: 0.9877\n",
            "Epoch 49/50\n",
            "26/26 [==============================] - 16s 613ms/step - loss: 0.0179 - accuracy: 0.9865\n",
            "Epoch 50/50\n",
            "26/26 [==============================] - 16s 608ms/step - loss: 0.0185 - accuracy: 0.9865\n"
          ]
        },
        {
          "output_type": "execute_result",
          "data": {
            "text/plain": [
              "<keras.callbacks.History at 0x7fbb629b9f10>"
            ]
          },
          "metadata": {},
          "execution_count": 244
        }
      ]
    },
    {
      "cell_type": "code",
      "metadata": {
        "id": "01nel4nIL_17"
      },
      "source": [
        "#saving the model\n",
        "cnn.save('./CNN_Model.h5')"
      ],
      "execution_count": 350,
      "outputs": []
    },
    {
      "cell_type": "markdown",
      "metadata": {
        "id": "mUk-XPgqB3tk"
      },
      "source": [
        "##Testing the model"
      ]
    },
    {
      "cell_type": "code",
      "metadata": {
        "id": "fT-RjbYfNjzX"
      },
      "source": [
        "import tensorflow as tf\n",
        "from tensorflow.keras.applications.resnet50 import preprocess_input, decode_predictions\n",
        "from tensorflow.keras.preprocessing import image\n",
        "# Helper libraries\n",
        "import numpy as np\n",
        "import matplotlib.pyplot as pl"
      ],
      "execution_count": null,
      "outputs": []
    },
    {
      "cell_type": "code",
      "metadata": {
        "id": "UUvTLd3KW0lv",
        "colab": {
          "base_uri": "https://localhost:8080/"
        },
        "outputId": "4f848648-652f-445d-f753-db4feafe927b"
      },
      "source": [
        "#y_pred\n",
        "y_pred = []\n",
        "outputs = cnn.predict(X_test)\n",
        "\n",
        "for output in outputs:\n",
        "  y_pred.append(np.argmax(output))\n",
        "\n",
        "\n",
        "\n",
        "from sklearn.metrics import accuracy_score\n",
        "print(\"Accuracy of CNN model on testing dataset\", accuracy_score(y_test, y_pred))\n",
        "\n"
      ],
      "execution_count": null,
      "outputs": [
        {
          "output_type": "stream",
          "name": "stdout",
          "text": [
            "Accuracy of CNN model on testing dataset 0.8\n"
          ]
        }
      ]
    },
    {
      "cell_type": "code",
      "metadata": {
        "colab": {
          "base_uri": "https://localhost:8080/",
          "height": 273
        },
        "id": "ZtHNwSjG-FNM",
        "outputId": "01160a12-2d80-4973-ce3f-7f2917707d1c"
      },
      "source": [
        "#confustion matrix\n",
        "from sklearn.metrics import confusion_matrix, ConfusionMatrixDisplay\n",
        "cm = confusion_matrix(y_test, y_pred)\n",
        "\n",
        "disp = ConfusionMatrixDisplay(confusion_matrix=cm,display_labels=[\"\"])\n",
        "disp.plot()\n",
        "plt.show()\n"
      ],
      "execution_count": null,
      "outputs": [
        {
          "output_type": "display_data",
          "data": {
            "image/png": "[encoded data removed]",
            "text/plain": [
              "<Figure size 432x288 with 2 Axes>"
            ]
          },
          "metadata": {
            "needs_background": "light"
          }
        }
      ]
    },
    {
      "cell_type": "markdown",
      "metadata": {
        "id": "lD47NCiJBMvY"
      },
      "source": [
        "## Predicting constellation classes with input images"
      ]
    },
    {
      "cell_type": "code",
      "metadata": {
        "colab": {
          "base_uri": "https://localhost:8080/",
          "height": 304
        },
        "id": "m09-r5dSyjnC",
        "outputId": "72215857-1128-42ca-8df0-f7806241b1f2"
      },
      "source": [
        "#Attempting to predict Aquarius constellation\n",
        "\n",
        "aqu_test = \"/content/gdrive/MyDrive/ConstellationClassifier/Dataset/Model_Data/Predict/aqutest.jpg\"\n",
        "img_aqu = image.load_img(aqu_test, target_size=(400, 400), color_mode='rgb')\n",
        "\n",
        "pl.imshow(img_aqu)\n",
        "img_aqu = img_aqu.resize((pixel_count,pixel_count))\n",
        "img_aqu= np.asarray(img_aqu)\n",
        "img_aqu = img_aqu/255\n",
        "img_aqu = img_aqu.reshape(1,pixel_count,pixel_count,3)\n",
        "print(np.argmax(cnn.predict(img_aqu))) #0th index is max so it is Aquarius\n",
        "\n",
        "print(input_list[np.argmax(cnn.predict(img_aqu))])\n",
        "\n",
        "\n"
      ],
      "execution_count": null,
      "outputs": [
        {
          "output_type": "stream",
          "name": "stdout",
          "text": [
            "0\n",
            "Aquarius\n"
          ]
        },
        {
          "output_type": "display_data",
          "data": {
            "image/png": "[encoded data removed]",
            "text/plain": [
              "<Figure size 432x288 with 1 Axes>"
            ]
          },
          "metadata": {
            "needs_background": "light"
          }
        }
      ]
    },
    {
      "cell_type": "code",
      "metadata": {
        "colab": {
          "base_uri": "https://localhost:8080/",
          "height": 304
        },
        "id": "EXID7vqw7uzr",
        "outputId": "cb55aea5-a291-49bc-c336-c84db100bd35"
      },
      "source": [
        "#Attempting to predict Aries constellation\n",
        "\n",
        "ari_test = \"/content/gdrive/MyDrive/ConstellationClassifier/Dataset/Model_Data/Predict/ariestest.jpg\"\n",
        "img_ari = image.load_img(ari_test, target_size=(400, 400), color_mode='rgb')\n",
        "\n",
        "pl.imshow(img_ari)\n",
        "img_ari = img_ari.resize((pixel_count,pixel_count))\n",
        "img_ari= np.asarray(img_ari)\n",
        "img_ari = img_ari/255\n",
        "img_ari = img_ari.reshape(1,pixel_count,pixel_count,3)\n",
        "print(np.argmax(cnn.predict(img_ari))) #0th index is max so it is Aquarius\n",
        "\n",
        "print(input_list[np.argmax(cnn.predict(img_ari))])"
      ],
      "execution_count": null,
      "outputs": [
        {
          "output_type": "stream",
          "name": "stdout",
          "text": [
            "1\n",
            "Aries\n"
          ]
        },
        {
          "output_type": "display_data",
          "data": {
            "image/png": "[encoded data removed]",
            "text/plain": [
              "<Figure size 432x288 with 1 Axes>"
            ]
          },
          "metadata": {
            "needs_background": "light"
          }
        }
      ]
    },
    {
      "cell_type": "code",
      "metadata": {
        "colab": {
          "base_uri": "https://localhost:8080/",
          "height": 304
        },
        "id": "KyI0-0NL9-l1",
        "outputId": "cba14da1-d3a2-45d2-ebc8-84230b43d49c"
      },
      "source": [
        "#Attempting to predict Cancer constellation\n",
        "\n",
        "can_test = \"/content/gdrive/MyDrive/ConstellationClassifier/Dataset/Model_Data/Predict/cancertest.jpg\"\n",
        "img_can = image.load_img(can_test, target_size=(400, 400), color_mode='rgb')\n",
        "\n",
        "pl.imshow(img_can)\n",
        "img_can = img_can.resize((pixel_count,pixel_count))\n",
        "img_can= np.asarray(img_can)\n",
        "img_can = img_can/255\n",
        "img_can = img_can.reshape(1,pixel_count,pixel_count,3)\n",
        "print(np.argmax(cnn.predict(img_can))) #0th index is max so it is Aquarius\n",
        "\n",
        "print(input_list[np.argmax(cnn.predict(img_can))])"
      ],
      "execution_count": null,
      "outputs": [
        {
          "output_type": "stream",
          "name": "stdout",
          "text": [
            "2\n",
            "Cancer\n"
          ]
        },
        {
          "output_type": "display_data",
          "data": {
            "image/png": "[encoded data removed]",
            "text/plain": [
              "<Figure size 432x288 with 1 Axes>"
            ]
          },
          "metadata": {
            "needs_background": "light"
          }
        }
      ]
    },
    {
      "cell_type": "code",
      "metadata": {
        "colab": {
          "base_uri": "https://localhost:8080/",
          "height": 304
        },
        "id": "sFqN7D1Vyswl",
        "outputId": "f8c01b07-b3cb-4e52-cd4c-6ed4dcb51e67"
      },
      "source": [
        "#Attempting to predict Cassiopeia constellation\n",
        "\n",
        "cass_test = \"/content/gdrive/MyDrive/ConstellationClassifier/Dataset/Model_Data/Predict/casstest2.jpg\"\n",
        "img_cass = image.load_img(cass_test, target_size=(400, 400), color_mode='rgb')\n",
        "\n",
        "plt.imshow(img_cass)\n",
        "img_cass = img_cass.resize((pixel_count,pixel_count))\n",
        "img_cass= np.asarray(img_cass)\n",
        "img_cass = img_cass/255\n",
        "img_cass = img_cass.reshape(1,pixel_count,pixel_count,3)\n",
        "print(np.argmax(cnn.predict(img_cass))) #3rh index is max so it is cassiopeia\n",
        "\n",
        "print(input_list[np.argmax(cnn.predict(img_cass))])"
      ],
      "execution_count": null,
      "outputs": [
        {
          "output_type": "stream",
          "name": "stdout",
          "text": [
            "3\n",
            "Cassiopeia\n"
          ]
        },
        {
          "output_type": "display_data",
          "data": {
            "image/png": "[encoded data removed]",
            "text/plain": [
              "<Figure size 432x288 with 1 Axes>"
            ]
          },
          "metadata": {
            "needs_background": "light"
          }
        }
      ]
    },
    {
      "cell_type": "code",
      "metadata": {
        "colab": {
          "base_uri": "https://localhost:8080/",
          "height": 304
        },
        "id": "YntCV9USIshO",
        "outputId": "2588b04c-501f-40a9-df77-7ed2cb766288"
      },
      "source": [
        "#Attempting to predict Cygnus constellation\n",
        "\n",
        "cyg_test = \"/content/gdrive/MyDrive/ConstellationClassifier/Dataset/Model_Data/Predict/cygnustest.jpg\"\n",
        "img_cyg = image.load_img(cyg_test, target_size=(400, 400), color_mode='rgb')\n",
        "\n",
        "plt.imshow(img_cyg)\n",
        "img_cyg = img_cyg.resize((pixel_count,pixel_count))\n",
        "img_cyg= np.asarray(img_cyg)\n",
        "img_cyg = img_cyg/255\n",
        "img_cyg = img_cyg.reshape(1,pixel_count,pixel_count,3)\n",
        "print(np.argmax(cnn.predict(img_cyg))) #3rh index is max so it is \n",
        "\n",
        "print(input_list[np.argmax(cnn.predict(img_cyg))])"
      ],
      "execution_count": null,
      "outputs": [
        {
          "output_type": "stream",
          "name": "stdout",
          "text": [
            "4\n",
            "Cygnus\n"
          ]
        },
        {
          "output_type": "display_data",
          "data": {
            "image/png": "[encoded data removed]",
            "text/plain": [
              "<Figure size 432x288 with 1 Axes>"
            ]
          },
          "metadata": {
            "needs_background": "light"
          }
        }
      ]
    },
    {
      "cell_type": "code",
      "metadata": {
        "colab": {
          "base_uri": "https://localhost:8080/",
          "height": 304
        },
        "id": "yIh6ngY1JzFv",
        "outputId": "2d1b7eb6-ec62-41e2-f7f9-6c58e97ef7b5"
      },
      "source": [
        "#Attempting to predict Pisces constellation\n",
        "\n",
        "pis_test = \"/content/gdrive/MyDrive/ConstellationClassifier/Dataset/Model_Data/Predict/piscestest.jpg\"\n",
        "img_pis = image.load_img(pis_test, target_size=(400, 400), color_mode='rgb')\n",
        "\n",
        "plt.imshow(img_pis)\n",
        "img_pis = img_pis.resize((pixel_count,pixel_count))\n",
        "img_pis= np.asarray(img_pis)\n",
        "img_pis = img_pis/255\n",
        "img_pis = img_pis.reshape(1,pixel_count,pixel_count,3)\n",
        "print(np.argmax(cnn.predict(img_pis))) #3rh index is max so it is \n",
        "\n",
        "print(input_list[np.argmax(cnn.predict(img_pis))])"
      ],
      "execution_count": null,
      "outputs": [
        {
          "output_type": "stream",
          "name": "stdout",
          "text": [
            "5\n",
            "Pisces\n"
          ]
        },
        {
          "output_type": "display_data",
          "data": {
            "image/png": "[encoded data removed]",
            "text/plain": [
              "<Figure size 432x288 with 1 Axes>"
            ]
          },
          "metadata": {
            "needs_background": "light"
          }
        }
      ]
    },
    {
      "cell_type": "code",
      "metadata": {
        "colab": {
          "base_uri": "https://localhost:8080/",
          "height": 304
        },
        "id": "QCAzO-4qrnr1",
        "outputId": "53d58087-d1b9-4adf-f2c3-975306293604"
      },
      "source": [
        "#Attempting to predict Scorpio constellation\n",
        "\n",
        "scr_test = \"/content/gdrive/MyDrive/ConstellationClassifier/Dataset/Model_Data/Predict/scortest.jpg\"\n",
        "img_scr = image.load_img(scr_test, target_size=(400, 400), color_mode='rgb')\n",
        "\n",
        "plt.imshow(img_scr)\n",
        "img_scr = img_scr.resize((pixel_count,pixel_count))\n",
        "img_scr = np.asarray(img_scr)\n",
        "img_scr = img_scr/255\n",
        "\n",
        "img_scr = img_scr.reshape(1,pixel_count,pixel_count,3)\n",
        "print(np.argmax(cnn.predict(img_scr))) #4th index is max so it is a scorpio\n",
        "print(input_list[np.argmax(cnn.predict(img_scr))])"
      ],
      "execution_count": null,
      "outputs": [
        {
          "output_type": "stream",
          "name": "stdout",
          "text": [
            "6\n",
            "Scorpius\n"
          ]
        },
        {
          "output_type": "display_data",
          "data": {
            "image/png": "[encoded data removed]",
            "text/plain": [
              "<Figure size 432x288 with 1 Axes>"
            ]
          },
          "metadata": {
            "needs_background": "light"
          }
        }
      ]
    },
    {
      "cell_type": "code",
      "metadata": {
        "colab": {
          "base_uri": "https://localhost:8080/",
          "height": 304
        },
        "id": "8N0jXRZSIgqG",
        "outputId": "ba51a8fe-d515-4c08-be76-5651f5e896c6"
      },
      "source": [
        "#Attempting to predict Taurus constellation\n",
        "\n",
        "tau_test = \"/content/gdrive/MyDrive/ConstellationClassifier/Dataset/Model_Data/Predict/taurustest.jpg\"\n",
        "img_tau = image.load_img(tau_test, target_size=(400, 400), color_mode='rgb')\n",
        "\n",
        "plt.imshow(img_tau)\n",
        "img_tau = img_tau.resize((pixel_count,pixel_count))\n",
        "img_tau= np.asarray(img_tau)\n",
        "img_tau = img_tau/255\n",
        "img_tau = img_tau.reshape(1,pixel_count,pixel_count,3)\n",
        "print(np.argmax(cnn.predict(img_tau))) #3rh index is max so it is \n",
        "\n",
        "print(input_list[np.argmax(cnn.predict(img_tau))])"
      ],
      "execution_count": null,
      "outputs": [
        {
          "output_type": "stream",
          "name": "stdout",
          "text": [
            "7\n",
            "Taurus\n"
          ]
        },
        {
          "output_type": "display_data",
          "data": {
            "image/png": "[encoded data removed]",
            "text/plain": [
              "<Figure size 432x288 with 1 Axes>"
            ]
          },
          "metadata": {
            "needs_background": "light"
          }
        }
      ]
    },
    {
      "cell_type": "code",
      "metadata": {
        "colab": {
          "base_uri": "https://localhost:8080/",
          "height": 304
        },
        "id": "0UpjBuuhISzL",
        "outputId": "fb4aa8ee-4268-4c66-9597-63bc0fb8eac8"
      },
      "source": [
        "#Attempting to predict Ursa Minor constellation\n",
        "\n",
        "umi_test = \"/content/gdrive/MyDrive/ConstellationClassifier/Dataset/Model_Data/Predict/ursaminortest.jpg\"\n",
        "img_umi = image.load_img(umi_test, target_size=(400, 400), color_mode='rgb')\n",
        "\n",
        "plt.imshow(img_umi)\n",
        "img_umi = img_umi.resize((pixel_count,pixel_count))\n",
        "img_umi= np.asarray(img_umi)\n",
        "img_umi = img_umi/255\n",
        "img_umi = img_umi.reshape(1,pixel_count,pixel_count,3)\n",
        "print(np.argmax(cnn.predict(img_umi))) #3rh index is max so it is \n",
        "\n",
        "print(input_list[np.argmax(cnn.predict(img_umi))])"
      ],
      "execution_count": null,
      "outputs": [
        {
          "output_type": "stream",
          "name": "stdout",
          "text": [
            "8\n",
            "Ursa_Minor\n"
          ]
        },
        {
          "output_type": "display_data",
          "data": {
            "image/png": "[encoded data removed]",
            "text/plain": [
              "<Figure size 432x288 with 1 Axes>"
            ]
          },
          "metadata": {
            "needs_background": "light"
          }
        }
      ]
    },
    {
      "cell_type": "markdown",
      "metadata": {
        "id": "n1mEzj_uCVgH"
      },
      "source": [
        "##Conclusion\n",
        "\n",
        "Overall, our model works pretty well :)\n",
        "\n",
        "If you would like to contribute to our dataset, go to https://foisy.co/ to draw images!"
      ]
    }
  ]
}